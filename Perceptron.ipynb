{
  "nbformat": 4,
  "nbformat_minor": 0,
  "metadata": {
    "colab": {
      "provenance": [],
      "authorship_tag": "ABX9TyPua1VjOWzoZvRTsYzdoVyG",
      "include_colab_link": true
    },
    "kernelspec": {
      "name": "python3",
      "display_name": "Python 3"
    },
    "language_info": {
      "name": "python"
    }
  },
  "cells": [
    {
      "cell_type": "markdown",
      "metadata": {
        "id": "view-in-github",
        "colab_type": "text"
      },
      "source": [
        "<a href=\"https://colab.research.google.com/github/Tech-Dheer/NNDL-Lab/blob/colab-branch/Perceptron.ipynb\" target=\"_parent\"><img src=\"https://colab.research.google.com/assets/colab-badge.svg\" alt=\"Open In Colab\"/></a>"
      ]
    },
    {
      "cell_type": "code",
      "execution_count": 2,
      "metadata": {
        "id": "4jyTPs2BiOjT"
      },
      "outputs": [],
      "source": [
        "# Logical Method for AND Gate"
      ]
    },
    {
      "cell_type": "code",
      "source": [
        "# Importing Packages\n",
        "import numpy as np"
      ],
      "metadata": {
        "id": "JcXEVMzyi8bC"
      },
      "execution_count": 4,
      "outputs": []
    },
    {
      "cell_type": "code",
      "source": [
        "# Defining Inputs\n",
        "X = np.asarray([[0,0],[0,1],[1,0],[1,1]])\n",
        "y = np.asarray([0,0,0,1])"
      ],
      "metadata": {
        "id": "2zuOS6HsmYaK"
      },
      "execution_count": 5,
      "outputs": []
    },
    {
      "cell_type": "code",
      "source": [
        "# Weights\n",
        "w = np.asarray([1,1])"
      ],
      "metadata": {
        "id": "0VkuxgJXm-9K"
      },
      "execution_count": 6,
      "outputs": []
    },
    {
      "cell_type": "code",
      "source": [
        "# Threshold value\n",
        "theta = 2"
      ],
      "metadata": {
        "id": "giErX1cWnO3K"
      },
      "execution_count": 7,
      "outputs": []
    },
    {
      "cell_type": "code",
      "source": [
        "# Place Holder\n",
        "y_pred = []"
      ],
      "metadata": {
        "id": "pWBcsZ11nYd6"
      },
      "execution_count": 8,
      "outputs": []
    },
    {
      "cell_type": "code",
      "source": [
        "# Step Function\n",
        "def StepFunc(net):\n",
        "  if net >= theta:\n",
        "    return 1\n",
        "  else:\n",
        "    return 0"
      ],
      "metadata": {
        "id": "r3cYeWrNrq_p"
      },
      "execution_count": 9,
      "outputs": []
    },
    {
      "cell_type": "code",
      "source": [
        "# Output Calculation\n",
        "for i in range(X.shape[0]):\n",
        "  x = X[i]\n",
        "  wt_sum = np.dot(x,w)\n",
        "  pred = StepFunc(wt_sum)\n",
        "  print(x[0], \"AND\", x[1], \"->\", pred)\n",
        "  y_pred.append(pred)"
      ],
      "metadata": {
        "colab": {
          "base_uri": "https://localhost:8080/"
        },
        "id": "e80b5VmbruSZ",
        "outputId": "39d72a79-b45e-4c51-bdaa-77f6ab4d67d9"
      },
      "execution_count": 10,
      "outputs": [
        {
          "output_type": "stream",
          "name": "stdout",
          "text": [
            "0 AND 0 -> 0\n",
            "0 AND 1 -> 0\n",
            "1 AND 0 -> 0\n",
            "1 AND 1 -> 1\n"
          ]
        }
      ]
    },
    {
      "cell_type": "code",
      "source": [
        "# Plotting the data\n",
        "import matplotlib.pyplot as plt\n",
        "slope = -w[0]/w[1]\n",
        "intercept = theta/w[1]\n",
        "x_plane = np.linspace(-2,2,10)\n",
        "y_plane = slope*x_plane + intercept\n",
        "plt.scatter(X[:,0],X[:,1], c=-y)\n",
        "plt.plot(x_plane - 0.1, y_plane -0.1, '-')\n",
        "plt.xlim([-0.2, 1.2])\n",
        "plt.ylim([-0.2, 1.2])\n",
        "plt.show()"
      ],
      "metadata": {
        "colab": {
          "base_uri": "https://localhost:8080/",
          "height": 435
        },
        "id": "SZOEdY8ntf5C",
        "outputId": "dd9035c7-3dc8-411f-810d-28afc82d0514"
      },
      "execution_count": 11,
      "outputs": [
        {
          "output_type": "display_data",
          "data": {
            "text/plain": [
              "<Figure size 640x480 with 1 Axes>"
            ],
            "image/png": "[encoded data removed]"
          },
          "metadata": {}
        }
      ]
    },
    {
      "cell_type": "code",
      "source": [
        "# Logical Method for OR Gate"
      ],
      "metadata": {
        "id": "hJS3xn4pwLdK"
      },
      "execution_count": 12,
      "outputs": []
    },
    {
      "cell_type": "code",
      "source": [
        "# Importing Packages\n",
        "import numpy as np"
      ],
      "metadata": {
        "id": "3z2GLPIK5eJT"
      },
      "execution_count": 13,
      "outputs": []
    },
    {
      "cell_type": "code",
      "source": [
        "# Defining Inputs\n",
        "X = np.asarray([[0,0],[0,1],[1,0],[1,1]])\n",
        "y = np.asarray([0, 1, 1, 1])"
      ],
      "metadata": {
        "id": "aQs2Qm5A5hEi"
      },
      "execution_count": 14,
      "outputs": []
    },
    {
      "cell_type": "code",
      "source": [
        "# Weights\n",
        "w = np.asarray([1, 1])"
      ],
      "metadata": {
        "id": "uvCb123l5on6"
      },
      "execution_count": 16,
      "outputs": []
    },
    {
      "cell_type": "code",
      "source": [
        "# Threshold value\n",
        "theta = 0.5"
      ],
      "metadata": {
        "id": "XxHPZUxu5wzK"
      },
      "execution_count": 17,
      "outputs": []
    },
    {
      "cell_type": "code",
      "source": [
        "# Place Holder\n",
        "y_pred = []"
      ],
      "metadata": {
        "id": "iDshGxdC522C"
      },
      "execution_count": 18,
      "outputs": []
    },
    {
      "cell_type": "code",
      "source": [
        "# Step Function\n",
        "def StepFunc(net):\n",
        "  if net >= theta:\n",
        "    return 1\n",
        "  else:\n",
        "    return 0"
      ],
      "metadata": {
        "id": "wfK_ys1o56gC"
      },
      "execution_count": 19,
      "outputs": []
    },
    {
      "cell_type": "code",
      "source": [
        "# Output Calculation\n",
        "for i in range(X.shape[0]):\n",
        "  x = X[i]\n",
        "  wt_sum = np.dot(x,w)\n",
        "  pred = StepFunc(wt_sum)\n",
        "  print(x[0], \"OR\", x[1], \"->\", pred)\n",
        "  y_pred.append(pred)"
      ],
      "metadata": {
        "colab": {
          "base_uri": "https://localhost:8080/"
        },
        "id": "J6AkU5nk5-s7",
        "outputId": "2af5a78c-9781-46a2-bfd3-4588bdd0b75d"
      },
      "execution_count": 21,
      "outputs": [
        {
          "output_type": "stream",
          "name": "stdout",
          "text": [
            "0 OR 0 -> 0\n",
            "0 OR 1 -> 1\n",
            "1 OR 0 -> 1\n",
            "1 OR 1 -> 1\n"
          ]
        }
      ]
    },
    {
      "cell_type": "code",
      "source": [
        "import matplotlib.pyplot as plt\n",
        "slope = -w[0]/w[1]\n",
        "intercept = (theta)/w[1]\n",
        "x_plane = np.linspace(-2,2,10)\n",
        "y_plane = slope * x_plane + intercept\n",
        "plt.scatter(X[:,0], X[:,1], c=-y)\n",
        "plt.plot(x_plane-0.1, y_plane-0.1, '-')\n",
        "plt.xlim([-0.2, 1.2])\n",
        "plt.ylim([-0.2, 1.2])\n",
        "plt.show()"
      ],
      "metadata": {
        "colab": {
          "base_uri": "https://localhost:8080/",
          "height": 435
        },
        "id": "pQhRylT46FzZ",
        "outputId": "64ce3db5-fedd-4ce2-821b-e5e5ff1de0ac"
      },
      "execution_count": 22,
      "outputs": [
        {
          "output_type": "display_data",
          "data": {
            "text/plain": [
              "<Figure size 640x480 with 1 Axes>"
            ],
            "image/png": "[encoded data removed]"
          },
          "metadata": {}
        }
      ]
    }
  ]
}